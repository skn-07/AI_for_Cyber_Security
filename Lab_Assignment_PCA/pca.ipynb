import pandas as pd
from sklearn import decomposition, datasets
from sklearn.preprocessing import StandardScaler, LabelEncoder

dataset = pd.read_parquet('/content/UNSW_NB15_testing-set.parquet', engine='pyarrow')
# print(dataset)

x = dataset.drop(columns=['label']) # Features only
y = dataset['label']                # Target only

# Identify categorical columns
categoricalColumns = ['proto', 'service', 'state', 'attack_cat']

# Apply label encoding to each categorical column
xEncoded = x.copy()
for col in categoricalColumns:
    le = LabelEncoder()
    xEncoded[col] = le.fit_transform(xEncoded[col])

# Display the data
#print("Features (x):")
#print(x.head())
#print("\nTarget label (y):")
#print(y.head())

stdSlc = StandardScaler()
xStd = stdSlc.fit_transform(xEncoded)

print(xStd.shape)
print(xStd)
