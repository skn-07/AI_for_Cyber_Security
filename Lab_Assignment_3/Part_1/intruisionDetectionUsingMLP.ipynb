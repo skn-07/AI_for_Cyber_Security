{
  "nbformat": 4,
  "nbformat_minor": 0,
  "metadata": {
    "colab": {
      "provenance": []
    },
    "kernelspec": {
      "name": "python3",
      "display_name": "Python 3"
    },
    "language_info": {
      "name": "python"
    }
  },
  "cells": [
    {
      "cell_type": "code",
      "execution_count": 1,
      "metadata": {
        "colab": {
          "base_uri": "https://localhost:8080/"
        },
        "id": "X7LFBI2zjhYr",
        "outputId": "77f91451-2d73-401e-e198-aacc852a3d23"
      },
      "outputs": [
        {
          "output_type": "stream",
          "name": "stdout",
          "text": [
            "Accuracy: 0.9761063703115698\n",
            "\n",
            "Classification Report:\n"
          ]
        },
        {
          "output_type": "stream",
          "name": "stderr",
          "text": [
            "/usr/local/lib/python3.10/dist-packages/sklearn/metrics/_classification.py:1531: UndefinedMetricWarning: Precision is ill-defined and being set to 0.0 in labels with no predicted samples. Use `zero_division` parameter to control this behavior.\n",
            "  _warn_prf(average, modifier, f\"{metric.capitalize()} is\", len(result))\n",
            "/usr/local/lib/python3.10/dist-packages/sklearn/metrics/_classification.py:1531: UndefinedMetricWarning: Recall is ill-defined and being set to 0.0 in labels with no true samples. Use `zero_division` parameter to control this behavior.\n",
            "  _warn_prf(average, modifier, f\"{metric.capitalize()} is\", len(result))\n"
          ]
        },
        {
          "output_type": "stream",
          "name": "stdout",
          "text": [
            "                 precision    recall  f1-score   support\n",
            "\n",
            "           back       0.98      0.99      0.98       185\n",
            "buffer_overflow       1.00      0.22      0.36         9\n",
            "   guess_passwd       1.00      0.91      0.95        11\n",
            "           imap       0.25      1.00      0.40         1\n",
            "        ipsweep       0.71      0.96      0.81       733\n",
            "           land       0.60      1.00      0.75         3\n",
            "     loadmodule       0.00      0.00      0.00         0\n",
            "        neptune       1.00      1.00      1.00      8228\n",
            "           nmap       0.99      0.21      0.35       313\n",
            "         normal       0.98      0.99      0.99     13422\n",
            "           perl       1.00      1.00      1.00         1\n",
            "            phf       1.00      1.00      1.00         1\n",
            "            pod       1.00      0.93      0.96        43\n",
            "      portsweep       0.99      0.96      0.98       573\n",
            "        rootkit       0.00      0.00      0.00         1\n",
            "          satan       0.96      0.95      0.96       738\n",
            "          smurf       1.00      1.00      1.00       534\n",
            "            spy       0.00      0.00      0.00         1\n",
            "       teardrop       1.00      1.00      1.00       188\n",
            "    warezclient       0.96      0.40      0.57       202\n",
            "    warezmaster       1.00      0.75      0.86         8\n",
            "\n",
            "       accuracy                           0.98     25195\n",
            "      macro avg       0.78      0.73      0.71     25195\n",
            "   weighted avg       0.98      0.98      0.97     25195\n",
            "\n"
          ]
        },
        {
          "output_type": "stream",
          "name": "stderr",
          "text": [
            "/usr/local/lib/python3.10/dist-packages/sklearn/metrics/_classification.py:1531: UndefinedMetricWarning: Precision is ill-defined and being set to 0.0 in labels with no predicted samples. Use `zero_division` parameter to control this behavior.\n",
            "  _warn_prf(average, modifier, f\"{metric.capitalize()} is\", len(result))\n",
            "/usr/local/lib/python3.10/dist-packages/sklearn/metrics/_classification.py:1531: UndefinedMetricWarning: Recall is ill-defined and being set to 0.0 in labels with no true samples. Use `zero_division` parameter to control this behavior.\n",
            "  _warn_prf(average, modifier, f\"{metric.capitalize()} is\", len(result))\n",
            "/usr/local/lib/python3.10/dist-packages/sklearn/metrics/_classification.py:1531: UndefinedMetricWarning: Precision is ill-defined and being set to 0.0 in labels with no predicted samples. Use `zero_division` parameter to control this behavior.\n",
            "  _warn_prf(average, modifier, f\"{metric.capitalize()} is\", len(result))\n",
            "/usr/local/lib/python3.10/dist-packages/sklearn/metrics/_classification.py:1531: UndefinedMetricWarning: Recall is ill-defined and being set to 0.0 in labels with no true samples. Use `zero_division` parameter to control this behavior.\n",
            "  _warn_prf(average, modifier, f\"{metric.capitalize()} is\", len(result))\n"
          ]
        }
      ],
      "source": [
        "import pandas as pd\n",
        "import numpy as np\n",
        "from sklearn.model_selection import train_test_split\n",
        "from sklearn.preprocessing import StandardScaler, LabelEncoder\n",
        "from sklearn.neural_network import MLPClassifier\n",
        "from sklearn.metrics import classification_report, accuracy_score\n",
        "from sklearn.compose import ColumnTransformer\n",
        "from sklearn.pipeline import Pipeline\n",
        "from sklearn.preprocessing import OneHotEncoder\n",
        "\n",
        "# Load the dataset\n",
        "# Assuming the dataset is in a CSV file named 'NSL-KDD.csv'\n",
        "data = pd.read_csv('/content/NSL_KDD_Train.csv', header=None)\n",
        "\n",
        "# Define column names\n",
        "column_names = [\n",
        "    'duration', 'protocol_type', 'service', 'flag', 'src_bytes', 'dst_bytes',\n",
        "    'land', 'wrong_fragment', 'urgent', 'hot', 'num_failed_logins', 'logged_in',\n",
        "    'num_compromised', 'root_shell', 'su_attempted', 'num_root', 'num_file_creations',\n",
        "    'num_shells', 'num_access_files', 'num_outbound_cmds', 'is_host_login',\n",
        "    'is_guest_login', 'count', 'srv_count', 'serror_rate', 'srv_serror_rate',\n",
        "    'rerror_rate', 'srv_rerror_rate', 'same_srv_rate', 'diff_srv_rate',\n",
        "    'srv_diff_host_rate'\n",
        "]\n",
        "data.columns = column_names + [f'col_{i}' for i in range(len(column_names), len(data.columns)-1)] + ['class']\n",
        "\n",
        "# Select features\n",
        "selected_features = column_names\n",
        "X = data[selected_features]\n",
        "y = data['class']\n",
        "\n",
        "# Split the data\n",
        "X_train, X_test, y_train, y_test = train_test_split(X, y, test_size=0.2, random_state=42)\n",
        "\n",
        "# Define preprocessing steps\n",
        "numeric_features = ['duration', 'src_bytes', 'dst_bytes', 'land', 'wrong_fragment', 'urgent',\n",
        "                    'hot', 'num_failed_logins', 'logged_in', 'num_compromised', 'root_shell',\n",
        "                    'su_attempted', 'num_root', 'num_file_creations', 'num_shells',\n",
        "                    'num_access_files', 'num_outbound_cmds', 'is_host_login', 'is_guest_login',\n",
        "                    'count', 'srv_count', 'serror_rate', 'srv_serror_rate', 'rerror_rate',\n",
        "                    'srv_rerror_rate', 'same_srv_rate', 'diff_srv_rate', 'srv_diff_host_rate']\n",
        "\n",
        "categorical_features = ['protocol_type', 'service', 'flag']\n",
        "\n",
        "preprocessor = ColumnTransformer(\n",
        "    transformers=[\n",
        "        ('num', StandardScaler(), numeric_features),\n",
        "        ('cat', OneHotEncoder(handle_unknown='ignore'), categorical_features)\n",
        "    ])\n",
        "\n",
        "# Create a pipeline\n",
        "clf = Pipeline([\n",
        "    ('preprocessor', preprocessor),\n",
        "    ('classifier', MLPClassifier(hidden_layer_sizes=(100, 50), max_iter=300, random_state=42))\n",
        "])\n",
        "\n",
        "# Fit the model\n",
        "clf.fit(X_train, y_train)\n",
        "\n",
        "# Make predictions\n",
        "y_pred = clf.predict(X_test)\n",
        "\n",
        "# Evaluate the model\n",
        "print(\"Accuracy:\", accuracy_score(y_test, y_pred))\n",
        "print(\"\\nClassification Report:\")\n",
        "print(classification_report(y_test, y_pred))"
      ]
    }
  ]
}